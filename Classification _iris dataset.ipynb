{
 "cells": [
  {
   "cell_type": "code",
   "execution_count": 229,
   "metadata": {},
   "outputs": [],
   "source": [
    "import pandas as pd\n",
    "import numpy as np\n",
    "import matplotlib.pyplot as plt\n",
    "import seaborn as sns\n",
    "import warnings\n",
    "warnings.filterwarnings(\"ignore\")"
   ]
  },
  {
   "cell_type": "code",
   "execution_count": 230,
   "metadata": {},
   "outputs": [],
   "source": [
    "df=pd.read_csv(\"iris.csv\")"
   ]
  },
  {
   "cell_type": "code",
   "execution_count": 231,
   "metadata": {},
   "outputs": [
    {
     "data": {
      "text/html": [
       "<div>\n",
       "<style scoped>\n",
       "    .dataframe tbody tr th:only-of-type {\n",
       "        vertical-align: middle;\n",
       "    }\n",
       "\n",
       "    .dataframe tbody tr th {\n",
       "        vertical-align: top;\n",
       "    }\n",
       "\n",
       "    .dataframe thead th {\n",
       "        text-align: right;\n",
       "    }\n",
       "</style>\n",
       "<table border=\"1\" class=\"dataframe\">\n",
       "  <thead>\n",
       "    <tr style=\"text-align: right;\">\n",
       "      <th></th>\n",
       "      <th>sepal length</th>\n",
       "      <th>sepal width</th>\n",
       "      <th>petal length</th>\n",
       "      <th>petal width</th>\n",
       "      <th>class</th>\n",
       "    </tr>\n",
       "  </thead>\n",
       "  <tbody>\n",
       "    <tr>\n",
       "      <th>0</th>\n",
       "      <td>5.1</td>\n",
       "      <td>3.5</td>\n",
       "      <td>1.4</td>\n",
       "      <td>0.2</td>\n",
       "      <td>Iris-setosa</td>\n",
       "    </tr>\n",
       "    <tr>\n",
       "      <th>1</th>\n",
       "      <td>4.9</td>\n",
       "      <td>3.0</td>\n",
       "      <td>1.4</td>\n",
       "      <td>0.2</td>\n",
       "      <td>Iris-setosa</td>\n",
       "    </tr>\n",
       "    <tr>\n",
       "      <th>2</th>\n",
       "      <td>4.7</td>\n",
       "      <td>3.2</td>\n",
       "      <td>1.3</td>\n",
       "      <td>0.2</td>\n",
       "      <td>Iris-setosa</td>\n",
       "    </tr>\n",
       "    <tr>\n",
       "      <th>3</th>\n",
       "      <td>4.6</td>\n",
       "      <td>3.1</td>\n",
       "      <td>1.5</td>\n",
       "      <td>0.2</td>\n",
       "      <td>Iris-setosa</td>\n",
       "    </tr>\n",
       "    <tr>\n",
       "      <th>4</th>\n",
       "      <td>5.0</td>\n",
       "      <td>3.6</td>\n",
       "      <td>1.4</td>\n",
       "      <td>0.2</td>\n",
       "      <td>Iris-setosa</td>\n",
       "    </tr>\n",
       "    <tr>\n",
       "      <th>...</th>\n",
       "      <td>...</td>\n",
       "      <td>...</td>\n",
       "      <td>...</td>\n",
       "      <td>...</td>\n",
       "      <td>...</td>\n",
       "    </tr>\n",
       "    <tr>\n",
       "      <th>145</th>\n",
       "      <td>6.7</td>\n",
       "      <td>3.0</td>\n",
       "      <td>5.2</td>\n",
       "      <td>2.3</td>\n",
       "      <td>Iris-virginica</td>\n",
       "    </tr>\n",
       "    <tr>\n",
       "      <th>146</th>\n",
       "      <td>6.3</td>\n",
       "      <td>2.5</td>\n",
       "      <td>5.0</td>\n",
       "      <td>1.9</td>\n",
       "      <td>Iris-virginica</td>\n",
       "    </tr>\n",
       "    <tr>\n",
       "      <th>147</th>\n",
       "      <td>6.5</td>\n",
       "      <td>3.0</td>\n",
       "      <td>5.2</td>\n",
       "      <td>2.0</td>\n",
       "      <td>Iris-virginica</td>\n",
       "    </tr>\n",
       "    <tr>\n",
       "      <th>148</th>\n",
       "      <td>6.2</td>\n",
       "      <td>3.4</td>\n",
       "      <td>5.4</td>\n",
       "      <td>2.3</td>\n",
       "      <td>Iris-virginica</td>\n",
       "    </tr>\n",
       "    <tr>\n",
       "      <th>149</th>\n",
       "      <td>5.9</td>\n",
       "      <td>3.0</td>\n",
       "      <td>5.1</td>\n",
       "      <td>1.8</td>\n",
       "      <td>Iris-virginica</td>\n",
       "    </tr>\n",
       "  </tbody>\n",
       "</table>\n",
       "<p>150 rows × 5 columns</p>\n",
       "</div>"
      ],
      "text/plain": [
       "     sepal length  sepal width  petal length  petal width           class\n",
       "0             5.1          3.5           1.4          0.2     Iris-setosa\n",
       "1             4.9          3.0           1.4          0.2     Iris-setosa\n",
       "2             4.7          3.2           1.3          0.2     Iris-setosa\n",
       "3             4.6          3.1           1.5          0.2     Iris-setosa\n",
       "4             5.0          3.6           1.4          0.2     Iris-setosa\n",
       "..            ...          ...           ...          ...             ...\n",
       "145           6.7          3.0           5.2          2.3  Iris-virginica\n",
       "146           6.3          2.5           5.0          1.9  Iris-virginica\n",
       "147           6.5          3.0           5.2          2.0  Iris-virginica\n",
       "148           6.2          3.4           5.4          2.3  Iris-virginica\n",
       "149           5.9          3.0           5.1          1.8  Iris-virginica\n",
       "\n",
       "[150 rows x 5 columns]"
      ]
     },
     "execution_count": 231,
     "metadata": {},
     "output_type": "execute_result"
    }
   ],
   "source": [
    "df"
   ]
  },
  {
   "cell_type": "code",
   "execution_count": 232,
   "metadata": {},
   "outputs": [
    {
     "data": {
      "text/plain": [
       "<bound method DataFrame.info of      sepal length  sepal width  petal length  petal width           class\n",
       "0             5.1          3.5           1.4          0.2     Iris-setosa\n",
       "1             4.9          3.0           1.4          0.2     Iris-setosa\n",
       "2             4.7          3.2           1.3          0.2     Iris-setosa\n",
       "3             4.6          3.1           1.5          0.2     Iris-setosa\n",
       "4             5.0          3.6           1.4          0.2     Iris-setosa\n",
       "..            ...          ...           ...          ...             ...\n",
       "145           6.7          3.0           5.2          2.3  Iris-virginica\n",
       "146           6.3          2.5           5.0          1.9  Iris-virginica\n",
       "147           6.5          3.0           5.2          2.0  Iris-virginica\n",
       "148           6.2          3.4           5.4          2.3  Iris-virginica\n",
       "149           5.9          3.0           5.1          1.8  Iris-virginica\n",
       "\n",
       "[150 rows x 5 columns]>"
      ]
     },
     "execution_count": 232,
     "metadata": {},
     "output_type": "execute_result"
    }
   ],
   "source": [
    "df.info"
   ]
  },
  {
   "cell_type": "code",
   "execution_count": 233,
   "metadata": {},
   "outputs": [],
   "source": [
    "#lets check the null values"
   ]
  },
  {
   "cell_type": "code",
   "execution_count": 234,
   "metadata": {},
   "outputs": [
    {
     "data": {
      "text/plain": [
       "False"
      ]
     },
     "execution_count": 234,
     "metadata": {},
     "output_type": "execute_result"
    }
   ],
   "source": [
    "df.isnull().values.any()"
   ]
  },
  {
   "cell_type": "code",
   "execution_count": 235,
   "metadata": {},
   "outputs": [
    {
     "data": {
      "text/plain": [
       "sepal length    0\n",
       "sepal width     0\n",
       "petal length    0\n",
       "petal width     0\n",
       "class           0\n",
       "dtype: int64"
      ]
     },
     "execution_count": 235,
     "metadata": {},
     "output_type": "execute_result"
    }
   ],
   "source": [
    "df.isnull().sum()"
   ]
  },
  {
   "cell_type": "code",
   "execution_count": 236,
   "metadata": {},
   "outputs": [
    {
     "data": {
      "text/plain": [
       "<matplotlib.axes._subplots.AxesSubplot at 0x25c10981640>"
      ]
     },
     "execution_count": 236,
     "metadata": {},
     "output_type": "execute_result"
    },
    {
     "data": {
      "image/png": "[encoded data removed]",
      "text/plain": [
       "<Figure size 576x432 with 2 Axes>"
      ]
     },
     "metadata": {
      "needs_background": "light"
     },
     "output_type": "display_data"
    }
   ],
   "source": [
    "plt.figure(figsize=(8,6))\n",
    "sns.heatmap(df.isnull())"
   ]
  },
  {
   "cell_type": "markdown",
   "metadata": {},
   "source": [
    "As we can see there is no null values in dataset"
   ]
  },
  {
   "cell_type": "code",
   "execution_count": 237,
   "metadata": {},
   "outputs": [],
   "source": [
    "#lets check the summery Statastics"
   ]
  },
  {
   "cell_type": "markdown",
   "metadata": {},
   "source": [
    "# Summery Statastics"
   ]
  },
  {
   "cell_type": "code",
   "execution_count": 238,
   "metadata": {},
   "outputs": [
    {
     "data": {
      "text/html": [
       "<div>\n",
       "<style scoped>\n",
       "    .dataframe tbody tr th:only-of-type {\n",
       "        vertical-align: middle;\n",
       "    }\n",
       "\n",
       "    .dataframe tbody tr th {\n",
       "        vertical-align: top;\n",
       "    }\n",
       "\n",
       "    .dataframe thead th {\n",
       "        text-align: right;\n",
       "    }\n",
       "</style>\n",
       "<table border=\"1\" class=\"dataframe\">\n",
       "  <thead>\n",
       "    <tr style=\"text-align: right;\">\n",
       "      <th></th>\n",
       "      <th>sepal length</th>\n",
       "      <th>sepal width</th>\n",
       "      <th>petal length</th>\n",
       "      <th>petal width</th>\n",
       "    </tr>\n",
       "  </thead>\n",
       "  <tbody>\n",
       "    <tr>\n",
       "      <th>count</th>\n",
       "      <td>150.000000</td>\n",
       "      <td>150.000000</td>\n",
       "      <td>150.000000</td>\n",
       "      <td>150.000000</td>\n",
       "    </tr>\n",
       "    <tr>\n",
       "      <th>mean</th>\n",
       "      <td>5.843333</td>\n",
       "      <td>3.054000</td>\n",
       "      <td>3.758667</td>\n",
       "      <td>1.198667</td>\n",
       "    </tr>\n",
       "    <tr>\n",
       "      <th>std</th>\n",
       "      <td>0.828066</td>\n",
       "      <td>0.433594</td>\n",
       "      <td>1.764420</td>\n",
       "      <td>0.763161</td>\n",
       "    </tr>\n",
       "    <tr>\n",
       "      <th>min</th>\n",
       "      <td>4.300000</td>\n",
       "      <td>2.000000</td>\n",
       "      <td>1.000000</td>\n",
       "      <td>0.100000</td>\n",
       "    </tr>\n",
       "    <tr>\n",
       "      <th>25%</th>\n",
       "      <td>5.100000</td>\n",
       "      <td>2.800000</td>\n",
       "      <td>1.600000</td>\n",
       "      <td>0.300000</td>\n",
       "    </tr>\n",
       "    <tr>\n",
       "      <th>50%</th>\n",
       "      <td>5.800000</td>\n",
       "      <td>3.000000</td>\n",
       "      <td>4.350000</td>\n",
       "      <td>1.300000</td>\n",
       "    </tr>\n",
       "    <tr>\n",
       "      <th>75%</th>\n",
       "      <td>6.400000</td>\n",
       "      <td>3.300000</td>\n",
       "      <td>5.100000</td>\n",
       "      <td>1.800000</td>\n",
       "    </tr>\n",
       "    <tr>\n",
       "      <th>max</th>\n",
       "      <td>7.900000</td>\n",
       "      <td>4.400000</td>\n",
       "      <td>6.900000</td>\n",
       "      <td>2.500000</td>\n",
       "    </tr>\n",
       "  </tbody>\n",
       "</table>\n",
       "</div>"
      ],
      "text/plain": [
       "       sepal length  sepal width  petal length  petal width\n",
       "count    150.000000   150.000000    150.000000   150.000000\n",
       "mean       5.843333     3.054000      3.758667     1.198667\n",
       "std        0.828066     0.433594      1.764420     0.763161\n",
       "min        4.300000     2.000000      1.000000     0.100000\n",
       "25%        5.100000     2.800000      1.600000     0.300000\n",
       "50%        5.800000     3.000000      4.350000     1.300000\n",
       "75%        6.400000     3.300000      5.100000     1.800000\n",
       "max        7.900000     4.400000      6.900000     2.500000"
      ]
     },
     "execution_count": 238,
     "metadata": {},
     "output_type": "execute_result"
    }
   ],
   "source": [
    "df.describe()"
   ]
  },
  {
   "cell_type": "code",
   "execution_count": 239,
   "metadata": {},
   "outputs": [
    {
     "data": {
      "text/plain": [
       "sepal length    float64\n",
       "sepal width     float64\n",
       "petal length    float64\n",
       "petal width     float64\n",
       "class            object\n",
       "dtype: object"
      ]
     },
     "execution_count": 239,
     "metadata": {},
     "output_type": "execute_result"
    }
   ],
   "source": [
    "df.dtypes"
   ]
  },
  {
   "cell_type": "markdown",
   "metadata": {},
   "source": [
    "# Data Visualization"
   ]
  },
  {
   "cell_type": "code",
   "execution_count": 240,
   "metadata": {},
   "outputs": [],
   "source": [
    "#printing object type data types ans thier unique values"
   ]
  },
  {
   "cell_type": "code",
   "execution_count": 241,
   "metadata": {},
   "outputs": [
    {
     "name": "stdout",
     "output_type": "stream",
     "text": [
      "class:['Iris-setosa' 'Iris-versicolor' 'Iris-virginica']\n",
      "Iris-virginica     50\n",
      "Iris-setosa        50\n",
      "Iris-versicolor    50\n",
      "Name: class, dtype: int64\n",
      "**********************************\n",
      "\n",
      "\n"
     ]
    }
   ],
   "source": [
    "for column in df.columns:\n",
    "    if df[column].dtype==object:\n",
    "        print(str(column)+ ':' + str(df[column].unique()))\n",
    "        print(df[column].value_counts())\n",
    "        print('**********************************')\n",
    "        print('\\n')"
   ]
  },
  {
   "cell_type": "code",
   "execution_count": 242,
   "metadata": {},
   "outputs": [],
   "source": [
    "#to check the correlation"
   ]
  },
  {
   "cell_type": "code",
   "execution_count": 243,
   "metadata": {},
   "outputs": [],
   "source": [
    "dfcor=df.corr()"
   ]
  },
  {
   "cell_type": "code",
   "execution_count": 244,
   "metadata": {},
   "outputs": [
    {
     "data": {
      "text/html": [
       "<div>\n",
       "<style scoped>\n",
       "    .dataframe tbody tr th:only-of-type {\n",
       "        vertical-align: middle;\n",
       "    }\n",
       "\n",
       "    .dataframe tbody tr th {\n",
       "        vertical-align: top;\n",
       "    }\n",
       "\n",
       "    .dataframe thead th {\n",
       "        text-align: right;\n",
       "    }\n",
       "</style>\n",
       "<table border=\"1\" class=\"dataframe\">\n",
       "  <thead>\n",
       "    <tr style=\"text-align: right;\">\n",
       "      <th></th>\n",
       "      <th>sepal length</th>\n",
       "      <th>sepal width</th>\n",
       "      <th>petal length</th>\n",
       "      <th>petal width</th>\n",
       "    </tr>\n",
       "  </thead>\n",
       "  <tbody>\n",
       "    <tr>\n",
       "      <th>sepal length</th>\n",
       "      <td>1.000000</td>\n",
       "      <td>-0.109369</td>\n",
       "      <td>0.871754</td>\n",
       "      <td>0.817954</td>\n",
       "    </tr>\n",
       "    <tr>\n",
       "      <th>sepal width</th>\n",
       "      <td>-0.109369</td>\n",
       "      <td>1.000000</td>\n",
       "      <td>-0.420516</td>\n",
       "      <td>-0.356544</td>\n",
       "    </tr>\n",
       "    <tr>\n",
       "      <th>petal length</th>\n",
       "      <td>0.871754</td>\n",
       "      <td>-0.420516</td>\n",
       "      <td>1.000000</td>\n",
       "      <td>0.962757</td>\n",
       "    </tr>\n",
       "    <tr>\n",
       "      <th>petal width</th>\n",
       "      <td>0.817954</td>\n",
       "      <td>-0.356544</td>\n",
       "      <td>0.962757</td>\n",
       "      <td>1.000000</td>\n",
       "    </tr>\n",
       "  </tbody>\n",
       "</table>\n",
       "</div>"
      ],
      "text/plain": [
       "              sepal length  sepal width  petal length  petal width\n",
       "sepal length      1.000000    -0.109369      0.871754     0.817954\n",
       "sepal width      -0.109369     1.000000     -0.420516    -0.356544\n",
       "petal length      0.871754    -0.420516      1.000000     0.962757\n",
       "petal width       0.817954    -0.356544      0.962757     1.000000"
      ]
     },
     "execution_count": 244,
     "metadata": {},
     "output_type": "execute_result"
    }
   ],
   "source": [
    "dfcor"
   ]
  },
  {
   "cell_type": "code",
   "execution_count": 245,
   "metadata": {},
   "outputs": [],
   "source": [
    "#lets see the correlation with visualization"
   ]
  },
  {
   "cell_type": "code",
   "execution_count": 246,
   "metadata": {},
   "outputs": [
    {
     "data": {
      "text/plain": [
       "<matplotlib.axes._subplots.AxesSubplot at 0x25c10ad72b0>"
      ]
     },
     "execution_count": 246,
     "metadata": {},
     "output_type": "execute_result"
    },
    {
     "data": {
      "image/png": "[encoded data removed]",
      "text/plain": [
       "<Figure size 576x432 with 2 Axes>"
      ]
     },
     "metadata": {
      "needs_background": "light"
     },
     "output_type": "display_data"
    }
   ],
   "source": [
    "plt.figure(figsize=(8,6))\n",
    "sns.heatmap(dfcor,annot=True,fmt='.0%',cmap='Blues')"
   ]
  },
  {
   "cell_type": "code",
   "execution_count": 247,
   "metadata": {},
   "outputs": [
    {
     "data": {
      "text/html": [
       "<div>\n",
       "<style scoped>\n",
       "    .dataframe tbody tr th:only-of-type {\n",
       "        vertical-align: middle;\n",
       "    }\n",
       "\n",
       "    .dataframe tbody tr th {\n",
       "        vertical-align: top;\n",
       "    }\n",
       "\n",
       "    .dataframe thead th {\n",
       "        text-align: right;\n",
       "    }\n",
       "</style>\n",
       "<table border=\"1\" class=\"dataframe\">\n",
       "  <thead>\n",
       "    <tr style=\"text-align: right;\">\n",
       "      <th></th>\n",
       "      <th>sepal length</th>\n",
       "      <th>sepal width</th>\n",
       "      <th>petal length</th>\n",
       "      <th>petal width</th>\n",
       "    </tr>\n",
       "  </thead>\n",
       "  <tbody>\n",
       "    <tr>\n",
       "      <th>count</th>\n",
       "      <td>150.000000</td>\n",
       "      <td>150.000000</td>\n",
       "      <td>150.000000</td>\n",
       "      <td>150.000000</td>\n",
       "    </tr>\n",
       "    <tr>\n",
       "      <th>mean</th>\n",
       "      <td>5.843333</td>\n",
       "      <td>3.054000</td>\n",
       "      <td>3.758667</td>\n",
       "      <td>1.198667</td>\n",
       "    </tr>\n",
       "    <tr>\n",
       "      <th>std</th>\n",
       "      <td>0.828066</td>\n",
       "      <td>0.433594</td>\n",
       "      <td>1.764420</td>\n",
       "      <td>0.763161</td>\n",
       "    </tr>\n",
       "    <tr>\n",
       "      <th>min</th>\n",
       "      <td>4.300000</td>\n",
       "      <td>2.000000</td>\n",
       "      <td>1.000000</td>\n",
       "      <td>0.100000</td>\n",
       "    </tr>\n",
       "    <tr>\n",
       "      <th>25%</th>\n",
       "      <td>5.100000</td>\n",
       "      <td>2.800000</td>\n",
       "      <td>1.600000</td>\n",
       "      <td>0.300000</td>\n",
       "    </tr>\n",
       "    <tr>\n",
       "      <th>50%</th>\n",
       "      <td>5.800000</td>\n",
       "      <td>3.000000</td>\n",
       "      <td>4.350000</td>\n",
       "      <td>1.300000</td>\n",
       "    </tr>\n",
       "    <tr>\n",
       "      <th>75%</th>\n",
       "      <td>6.400000</td>\n",
       "      <td>3.300000</td>\n",
       "      <td>5.100000</td>\n",
       "      <td>1.800000</td>\n",
       "    </tr>\n",
       "    <tr>\n",
       "      <th>max</th>\n",
       "      <td>7.900000</td>\n",
       "      <td>4.400000</td>\n",
       "      <td>6.900000</td>\n",
       "      <td>2.500000</td>\n",
       "    </tr>\n",
       "  </tbody>\n",
       "</table>\n",
       "</div>"
      ],
      "text/plain": [
       "       sepal length  sepal width  petal length  petal width\n",
       "count    150.000000   150.000000    150.000000   150.000000\n",
       "mean       5.843333     3.054000      3.758667     1.198667\n",
       "std        0.828066     0.433594      1.764420     0.763161\n",
       "min        4.300000     2.000000      1.000000     0.100000\n",
       "25%        5.100000     2.800000      1.600000     0.300000\n",
       "50%        5.800000     3.000000      4.350000     1.300000\n",
       "75%        6.400000     3.300000      5.100000     1.800000\n",
       "max        7.900000     4.400000      6.900000     2.500000"
      ]
     },
     "execution_count": 247,
     "metadata": {},
     "output_type": "execute_result"
    }
   ],
   "source": [
    "df.describe()"
   ]
  },
  {
   "cell_type": "markdown",
   "metadata": {},
   "source": [
    "# Univariate Analysis"
   ]
  },
  {
   "cell_type": "code",
   "execution_count": 248,
   "metadata": {},
   "outputs": [],
   "source": [
    "#checking speal length people"
   ]
  },
  {
   "cell_type": "code",
   "execution_count": 249,
   "metadata": {},
   "outputs": [
    {
     "data": {
      "image/png": "[encoded data removed]",
      "text/plain": [
       "<Figure size 576x432 with 1 Axes>"
      ]
     },
     "metadata": {
      "needs_background": "light"
     },
     "output_type": "display_data"
    }
   ],
   "source": [
    "plt.subplots(figsize=(8,6))\n",
    "sns.countplot(x='sepal length',data=df)\n",
    "plt.title(\"Total Sepal Length\")\n",
    "plt.show()"
   ]
  },
  {
   "cell_type": "code",
   "execution_count": 250,
   "metadata": {},
   "outputs": [
    {
     "data": {
      "image/png": "[encoded data removed]",
      "text/plain": [
       "<Figure size 576x432 with 1 Axes>"
      ]
     },
     "metadata": {
      "needs_background": "light"
     },
     "output_type": "display_data"
    }
   ],
   "source": [
    "plt.subplots(figsize=(8,6))\n",
    "sns.countplot(x='sepal width',data=df)\n",
    "plt.title(\"Total sepal width\")\n",
    "plt.show()"
   ]
  },
  {
   "cell_type": "code",
   "execution_count": 251,
   "metadata": {},
   "outputs": [
    {
     "data": {
      "image/png": "[encoded data removed]",
      "text/plain": [
       "<Figure size 576x576 with 1 Axes>"
      ]
     },
     "metadata": {
      "needs_background": "light"
     },
     "output_type": "display_data"
    }
   ],
   "source": [
    "plt.subplots(figsize=(8,8))\n",
    "sns.countplot(x='petal length',data=df)\n",
    "plt.title(\"Total petal length\")\n",
    "plt.show()"
   ]
  },
  {
   "cell_type": "code",
   "execution_count": 252,
   "metadata": {},
   "outputs": [
    {
     "data": {
      "image/png": "[encoded data removed]",
      "text/plain": [
       "<Figure size 576x432 with 1 Axes>"
      ]
     },
     "metadata": {
      "needs_background": "light"
     },
     "output_type": "display_data"
    }
   ],
   "source": [
    "plt.subplots(figsize=(8,6))\n",
    "sns.countplot(x='petal width',data=df)\n",
    "plt.title(\"Total petal width\")\n",
    "plt.show()"
   ]
  },
  {
   "cell_type": "markdown",
   "metadata": {},
   "source": [
    "# Bivariate Analysis"
   ]
  },
  {
   "cell_type": "code",
   "execution_count": 253,
   "metadata": {},
   "outputs": [],
   "source": [
    "#Exploring sepal length vs petal length by using facegrid"
   ]
  },
  {
   "cell_type": "code",
   "execution_count": 254,
   "metadata": {},
   "outputs": [
    {
     "data": {
      "image/png": "[encoded data removed]",
      "text/plain": [
       "<Figure size 7560x216 with 35 Axes>"
      ]
     },
     "metadata": {
      "needs_background": "light"
     },
     "output_type": "display_data"
    }
   ],
   "source": [
    "Facet=sns.FacetGrid(df,col='sepal length')\n",
    "Facet.map(sns.distplot,'petal length')\n",
    "plt.show()"
   ]
  },
  {
   "cell_type": "code",
   "execution_count": 255,
   "metadata": {},
   "outputs": [
    {
     "data": {
      "image/png": "[encoded data removed]",
      "text/plain": [
       "<Figure size 432x288 with 1 Axes>"
      ]
     },
     "metadata": {
      "needs_background": "light"
     },
     "output_type": "display_data"
    },
    {
     "name": "stdout",
     "output_type": "stream",
     "text": [
      "sepal width  petal width\n",
      "2.0          1.0            1\n",
      "2.2          1.5            2\n",
      "             1.0            1\n",
      "2.3          1.3            2\n",
      "             0.3            1\n",
      "                           ..\n",
      "3.9          0.4            2\n",
      "4.0          0.2            1\n",
      "4.1          0.1            1\n",
      "4.2          0.2            1\n",
      "4.4          0.4            1\n",
      "Name: petal width, Length: 97, dtype: int64\n"
     ]
    }
   ],
   "source": [
    "sns.countplot(x='sepal width',hue='petal width',data=df)\n",
    "plt.title(\"sepal width vs petal width\")\n",
    "plt.show()\n",
    "print(df.groupby('sepal width')['petal width'].value_counts())"
   ]
  },
  {
   "cell_type": "markdown",
   "metadata": {},
   "source": [
    "# Checking Skewness"
   ]
  },
  {
   "cell_type": "code",
   "execution_count": 256,
   "metadata": {},
   "outputs": [
    {
     "data": {
      "text/plain": [
       "<matplotlib.axes._subplots.AxesSubplot at 0x25c11f3aaf0>"
      ]
     },
     "execution_count": 256,
     "metadata": {},
     "output_type": "execute_result"
    },
    {
     "data": {
      "image/png": "[encoded data removed]",
      "text/plain": [
       "<Figure size 1080x720 with 1 Axes>"
      ]
     },
     "metadata": {
      "needs_background": "light"
     },
     "output_type": "display_data"
    }
   ],
   "source": [
    "fig,ax=plt.subplots(figsize=(15,10))\n",
    "sns.boxplot(data=df,width=0.5,ax=ax)"
   ]
  },
  {
   "cell_type": "code",
   "execution_count": 257,
   "metadata": {},
   "outputs": [],
   "source": [
    "#changing categorical variables into numeric variables"
   ]
  },
  {
   "cell_type": "code",
   "execution_count": 258,
   "metadata": {},
   "outputs": [],
   "source": [
    "from sklearn.preprocessing import LabelEncoder"
   ]
  },
  {
   "cell_type": "code",
   "execution_count": 259,
   "metadata": {},
   "outputs": [],
   "source": [
    "le=LabelEncoder()"
   ]
  },
  {
   "cell_type": "code",
   "execution_count": 260,
   "metadata": {},
   "outputs": [],
   "source": [
    "for column in df.columns:\n",
    "    if df[column].dtype==np.number:\n",
    "        continue\n",
    "    df[column]=le.fit_transform(df[column])"
   ]
  },
  {
   "cell_type": "code",
   "execution_count": 261,
   "metadata": {},
   "outputs": [
    {
     "data": {
      "text/html": [
       "<div>\n",
       "<style scoped>\n",
       "    .dataframe tbody tr th:only-of-type {\n",
       "        vertical-align: middle;\n",
       "    }\n",
       "\n",
       "    .dataframe tbody tr th {\n",
       "        vertical-align: top;\n",
       "    }\n",
       "\n",
       "    .dataframe thead th {\n",
       "        text-align: right;\n",
       "    }\n",
       "</style>\n",
       "<table border=\"1\" class=\"dataframe\">\n",
       "  <thead>\n",
       "    <tr style=\"text-align: right;\">\n",
       "      <th></th>\n",
       "      <th>sepal length</th>\n",
       "      <th>sepal width</th>\n",
       "      <th>petal length</th>\n",
       "      <th>petal width</th>\n",
       "      <th>class</th>\n",
       "    </tr>\n",
       "  </thead>\n",
       "  <tbody>\n",
       "    <tr>\n",
       "      <th>0</th>\n",
       "      <td>5.1</td>\n",
       "      <td>3.5</td>\n",
       "      <td>1.4</td>\n",
       "      <td>0.2</td>\n",
       "      <td>0</td>\n",
       "    </tr>\n",
       "    <tr>\n",
       "      <th>1</th>\n",
       "      <td>4.9</td>\n",
       "      <td>3.0</td>\n",
       "      <td>1.4</td>\n",
       "      <td>0.2</td>\n",
       "      <td>0</td>\n",
       "    </tr>\n",
       "    <tr>\n",
       "      <th>2</th>\n",
       "      <td>4.7</td>\n",
       "      <td>3.2</td>\n",
       "      <td>1.3</td>\n",
       "      <td>0.2</td>\n",
       "      <td>0</td>\n",
       "    </tr>\n",
       "    <tr>\n",
       "      <th>3</th>\n",
       "      <td>4.6</td>\n",
       "      <td>3.1</td>\n",
       "      <td>1.5</td>\n",
       "      <td>0.2</td>\n",
       "      <td>0</td>\n",
       "    </tr>\n",
       "    <tr>\n",
       "      <th>4</th>\n",
       "      <td>5.0</td>\n",
       "      <td>3.6</td>\n",
       "      <td>1.4</td>\n",
       "      <td>0.2</td>\n",
       "      <td>0</td>\n",
       "    </tr>\n",
       "  </tbody>\n",
       "</table>\n",
       "</div>"
      ],
      "text/plain": [
       "   sepal length  sepal width  petal length  petal width  class\n",
       "0           5.1          3.5           1.4          0.2      0\n",
       "1           4.9          3.0           1.4          0.2      0\n",
       "2           4.7          3.2           1.3          0.2      0\n",
       "3           4.6          3.1           1.5          0.2      0\n",
       "4           5.0          3.6           1.4          0.2      0"
      ]
     },
     "execution_count": 261,
     "metadata": {},
     "output_type": "execute_result"
    }
   ],
   "source": [
    "df.head()"
   ]
  },
  {
   "cell_type": "code",
   "execution_count": 262,
   "metadata": {},
   "outputs": [],
   "source": [
    "#Lets see the data distributed for every column"
   ]
  },
  {
   "cell_type": "code",
   "execution_count": 263,
   "metadata": {},
   "outputs": [
    {
     "data": {
      "image/png": "[encoded data removed]",
      "text/plain": [
       "<Figure size 720x864 with 1 Axes>"
      ]
     },
     "metadata": {},
     "output_type": "display_data"
    },
    {
     "data": {
      "image/png": "[encoded data removed]",
      "text/plain": [
       "<Figure size 432x288 with 1 Axes>"
      ]
     },
     "metadata": {
      "needs_background": "light"
     },
     "output_type": "display_data"
    },
    {
     "data": {
      "image/png": "[encoded data removed]",
      "text/plain": [
       "<Figure size 432x288 with 1 Axes>"
      ]
     },
     "metadata": {
      "needs_background": "light"
     },
     "output_type": "display_data"
    },
    {
     "data": {
      "image/png": "[encoded data removed]",
      "text/plain": [
       "<Figure size 432x288 with 1 Axes>"
      ]
     },
     "metadata": {
      "needs_background": "light"
     },
     "output_type": "display_data"
    },
    {
     "data": {
      "image/png": "[encoded data removed]",
      "text/plain": [
       "<Figure size 432x288 with 1 Axes>"
      ]
     },
     "metadata": {
      "needs_background": "light"
     },
     "output_type": "display_data"
    }
   ],
   "source": [
    "plt.figure(figsize=(10,12),facecolor='white')\n",
    "plotnumber=1\n",
    "for column in df:\n",
    "    if plotnumber<=9:\n",
    "        ax=plt.subplot(3,3,plotnumber)\n",
    "        sns.distplot(df[column])\n",
    "        plt.xlabel(column,fontsize=15)\n",
    "        plotnumber +=1\n",
    "        plt.show()"
   ]
  },
  {
   "cell_type": "markdown",
   "metadata": {},
   "source": [
    "# plotting outliers"
   ]
  },
  {
   "cell_type": "code",
   "execution_count": 264,
   "metadata": {},
   "outputs": [
    {
     "data": {
      "text/plain": [
       "<matplotlib.axes._subplots.AxesSubplot at 0x25c142086d0>"
      ]
     },
     "execution_count": 264,
     "metadata": {},
     "output_type": "execute_result"
    },
    {
     "data": {
      "image/png": "[encoded data removed]",
      "text/plain": [
       "<Figure size 432x288 with 1 Axes>"
      ]
     },
     "metadata": {
      "needs_background": "light"
     },
     "output_type": "display_data"
    }
   ],
   "source": [
    "df['sepal length'].plot.box()"
   ]
  },
  {
   "cell_type": "code",
   "execution_count": 265,
   "metadata": {},
   "outputs": [
    {
     "data": {
      "text/plain": [
       "<matplotlib.axes._subplots.AxesSubplot at 0x25c14957670>"
      ]
     },
     "execution_count": 265,
     "metadata": {},
     "output_type": "execute_result"
    },
    {
     "data": {
      "image/png": "[encoded data removed]",
      "text/plain": [
       "<Figure size 432x288 with 1 Axes>"
      ]
     },
     "metadata": {
      "needs_background": "light"
     },
     "output_type": "display_data"
    }
   ],
   "source": [
    "df['sepal width'].plot.box()"
   ]
  },
  {
   "cell_type": "code",
   "execution_count": 266,
   "metadata": {},
   "outputs": [
    {
     "data": {
      "text/plain": [
       "<matplotlib.axes._subplots.AxesSubplot at 0x25c11a56d90>"
      ]
     },
     "execution_count": 266,
     "metadata": {},
     "output_type": "execute_result"
    },
    {
     "data": {
      "image/png": "[encoded data removed]",
      "text/plain": [
       "<Figure size 432x288 with 1 Axes>"
      ]
     },
     "metadata": {
      "needs_background": "light"
     },
     "output_type": "display_data"
    }
   ],
   "source": [
    "df['petal length'].plot.box()"
   ]
  },
  {
   "cell_type": "markdown",
   "metadata": {},
   "source": [
    "# Removing Outliers"
   ]
  },
  {
   "cell_type": "code",
   "execution_count": 267,
   "metadata": {},
   "outputs": [],
   "source": [
    "from scipy.stats import zscore"
   ]
  },
  {
   "cell_type": "code",
   "execution_count": 268,
   "metadata": {},
   "outputs": [
    {
     "data": {
      "text/plain": [
       "array([[9.00681170e-01, 1.03205722e+00, 1.34127240e+00, 1.31297673e+00,\n",
       "        1.22474487e+00],\n",
       "       [1.14301691e+00, 1.24957601e-01, 1.34127240e+00, 1.31297673e+00,\n",
       "        1.22474487e+00],\n",
       "       [1.38535265e+00, 3.37848329e-01, 1.39813811e+00, 1.31297673e+00,\n",
       "        1.22474487e+00],\n",
       "       [1.50652052e+00, 1.06445364e-01, 1.28440670e+00, 1.31297673e+00,\n",
       "        1.22474487e+00],\n",
       "       [1.02184904e+00, 1.26346019e+00, 1.34127240e+00, 1.31297673e+00,\n",
       "        1.22474487e+00],\n",
       "       [5.37177559e-01, 1.95766909e+00, 1.17067529e+00, 1.05003079e+00,\n",
       "        1.22474487e+00],\n",
       "       [1.50652052e+00, 8.00654259e-01, 1.34127240e+00, 1.18150376e+00,\n",
       "        1.22474487e+00],\n",
       "       [1.02184904e+00, 8.00654259e-01, 1.28440670e+00, 1.31297673e+00,\n",
       "        1.22474487e+00],\n",
       "       [1.74885626e+00, 3.56360566e-01, 1.34127240e+00, 1.31297673e+00,\n",
       "        1.22474487e+00],\n",
       "       [1.14301691e+00, 1.06445364e-01, 1.28440670e+00, 1.44444970e+00,\n",
       "        1.22474487e+00],\n",
       "       [5.37177559e-01, 1.49486315e+00, 1.28440670e+00, 1.31297673e+00,\n",
       "        1.22474487e+00],\n",
       "       [1.26418478e+00, 8.00654259e-01, 1.22754100e+00, 1.31297673e+00,\n",
       "        1.22474487e+00],\n",
       "       [1.26418478e+00, 1.24957601e-01, 1.34127240e+00, 1.44444970e+00,\n",
       "        1.22474487e+00],\n",
       "       [1.87002413e+00, 1.24957601e-01, 1.51186952e+00, 1.44444970e+00,\n",
       "        1.22474487e+00],\n",
       "       [5.25060772e-02, 2.18907205e+00, 1.45500381e+00, 1.31297673e+00,\n",
       "        1.22474487e+00],\n",
       "       [1.73673948e-01, 3.11468391e+00, 1.28440670e+00, 1.05003079e+00,\n",
       "        1.22474487e+00],\n",
       "       [5.37177559e-01, 1.95766909e+00, 1.39813811e+00, 1.05003079e+00,\n",
       "        1.22474487e+00],\n",
       "       [9.00681170e-01, 1.03205722e+00, 1.34127240e+00, 1.18150376e+00,\n",
       "        1.22474487e+00],\n",
       "       [1.73673948e-01, 1.72626612e+00, 1.17067529e+00, 1.18150376e+00,\n",
       "        1.22474487e+00],\n",
       "       [9.00681170e-01, 1.72626612e+00, 1.28440670e+00, 1.18150376e+00,\n",
       "        1.22474487e+00],\n",
       "       [5.37177559e-01, 8.00654259e-01, 1.17067529e+00, 1.31297673e+00,\n",
       "        1.22474487e+00],\n",
       "       [9.00681170e-01, 1.49486315e+00, 1.28440670e+00, 1.05003079e+00,\n",
       "        1.22474487e+00],\n",
       "       [1.50652052e+00, 1.26346019e+00, 1.56873522e+00, 1.31297673e+00,\n",
       "        1.22474487e+00],\n",
       "       [9.00681170e-01, 5.69251294e-01, 1.17067529e+00, 9.18557817e-01,\n",
       "        1.22474487e+00],\n",
       "       [1.26418478e+00, 8.00654259e-01, 1.05694388e+00, 1.31297673e+00,\n",
       "        1.22474487e+00],\n",
       "       [1.02184904e+00, 1.24957601e-01, 1.22754100e+00, 1.31297673e+00,\n",
       "        1.22474487e+00],\n",
       "       [1.02184904e+00, 8.00654259e-01, 1.22754100e+00, 1.05003079e+00,\n",
       "        1.22474487e+00],\n",
       "       [7.79513300e-01, 1.03205722e+00, 1.28440670e+00, 1.31297673e+00,\n",
       "        1.22474487e+00],\n",
       "       [7.79513300e-01, 8.00654259e-01, 1.34127240e+00, 1.31297673e+00,\n",
       "        1.22474487e+00],\n",
       "       [1.38535265e+00, 3.37848329e-01, 1.22754100e+00, 1.31297673e+00,\n",
       "        1.22474487e+00],\n",
       "       [1.26418478e+00, 1.06445364e-01, 1.22754100e+00, 1.31297673e+00,\n",
       "        1.22474487e+00],\n",
       "       [5.37177559e-01, 8.00654259e-01, 1.28440670e+00, 1.05003079e+00,\n",
       "        1.22474487e+00],\n",
       "       [7.79513300e-01, 2.42047502e+00, 1.28440670e+00, 1.44444970e+00,\n",
       "        1.22474487e+00],\n",
       "       [4.16009689e-01, 2.65187798e+00, 1.34127240e+00, 1.31297673e+00,\n",
       "        1.22474487e+00],\n",
       "       [1.14301691e+00, 1.06445364e-01, 1.28440670e+00, 1.44444970e+00,\n",
       "        1.22474487e+00],\n",
       "       [1.02184904e+00, 3.37848329e-01, 1.45500381e+00, 1.31297673e+00,\n",
       "        1.22474487e+00],\n",
       "       [4.16009689e-01, 1.03205722e+00, 1.39813811e+00, 1.31297673e+00,\n",
       "        1.22474487e+00],\n",
       "       [1.14301691e+00, 1.06445364e-01, 1.28440670e+00, 1.44444970e+00,\n",
       "        1.22474487e+00],\n",
       "       [1.74885626e+00, 1.24957601e-01, 1.39813811e+00, 1.31297673e+00,\n",
       "        1.22474487e+00],\n",
       "       [9.00681170e-01, 8.00654259e-01, 1.28440670e+00, 1.31297673e+00,\n",
       "        1.22474487e+00],\n",
       "       [1.02184904e+00, 1.03205722e+00, 1.39813811e+00, 1.18150376e+00,\n",
       "        1.22474487e+00],\n",
       "       [1.62768839e+00, 1.74477836e+00, 1.39813811e+00, 1.18150376e+00,\n",
       "        1.22474487e+00],\n",
       "       [1.74885626e+00, 3.37848329e-01, 1.39813811e+00, 1.31297673e+00,\n",
       "        1.22474487e+00],\n",
       "       [1.02184904e+00, 1.03205722e+00, 1.22754100e+00, 7.87084847e-01,\n",
       "        1.22474487e+00],\n",
       "       [9.00681170e-01, 1.72626612e+00, 1.05694388e+00, 1.05003079e+00,\n",
       "        1.22474487e+00],\n",
       "       [1.26418478e+00, 1.24957601e-01, 1.34127240e+00, 1.18150376e+00,\n",
       "        1.22474487e+00],\n",
       "       [9.00681170e-01, 1.72626612e+00, 1.22754100e+00, 1.31297673e+00,\n",
       "        1.22474487e+00],\n",
       "       [1.50652052e+00, 3.37848329e-01, 1.34127240e+00, 1.31297673e+00,\n",
       "        1.22474487e+00],\n",
       "       [6.58345429e-01, 1.49486315e+00, 1.28440670e+00, 1.31297673e+00,\n",
       "        1.22474487e+00],\n",
       "       [1.02184904e+00, 5.69251294e-01, 1.34127240e+00, 1.31297673e+00,\n",
       "        1.22474487e+00],\n",
       "       [1.40150837e+00, 3.37848329e-01, 5.35295827e-01, 2.64698913e-01,\n",
       "        0.00000000e+00],\n",
       "       [6.74501145e-01, 3.37848329e-01, 4.21564419e-01, 3.96171883e-01,\n",
       "        0.00000000e+00],\n",
       "       [1.28034050e+00, 1.06445364e-01, 6.49027235e-01, 3.96171883e-01,\n",
       "        0.00000000e+00],\n",
       "       [4.16009689e-01, 1.74477836e+00, 1.37235899e-01, 1.33225943e-01,\n",
       "        0.00000000e+00],\n",
       "       [7.95669016e-01, 5.87763531e-01, 4.78430123e-01, 3.96171883e-01,\n",
       "        0.00000000e+00],\n",
       "       [1.73673948e-01, 5.87763531e-01, 4.21564419e-01, 1.33225943e-01,\n",
       "        0.00000000e+00],\n",
       "       [5.53333275e-01, 5.69251294e-01, 5.35295827e-01, 5.27644853e-01,\n",
       "        0.00000000e+00],\n",
       "       [1.14301691e+00, 1.51337539e+00, 2.60824029e-01, 2.61192967e-01,\n",
       "        0.00000000e+00],\n",
       "       [9.16836886e-01, 3.56360566e-01, 4.78430123e-01, 1.33225943e-01,\n",
       "        0.00000000e+00],\n",
       "       [7.79513300e-01, 8.19166497e-01, 8.03701950e-02, 2.64698913e-01,\n",
       "        0.00000000e+00],\n",
       "       [1.02184904e+00, 2.43898725e+00, 1.47092621e-01, 2.61192967e-01,\n",
       "        0.00000000e+00],\n",
       "       [6.86617933e-02, 1.24957601e-01, 2.50967307e-01, 3.96171883e-01,\n",
       "        0.00000000e+00],\n",
       "       [1.89829664e-01, 1.97618132e+00, 1.37235899e-01, 2.61192967e-01,\n",
       "        0.00000000e+00],\n",
       "       [3.10997534e-01, 3.56360566e-01, 5.35295827e-01, 2.64698913e-01,\n",
       "        0.00000000e+00],\n",
       "       [2.94841818e-01, 3.56360566e-01, 9.02269170e-02, 1.33225943e-01,\n",
       "        0.00000000e+00],\n",
       "       [1.03800476e+00, 1.06445364e-01, 3.64698715e-01, 2.64698913e-01,\n",
       "        0.00000000e+00],\n",
       "       [2.94841818e-01, 1.24957601e-01, 4.21564419e-01, 3.96171883e-01,\n",
       "        0.00000000e+00],\n",
       "       [5.25060772e-02, 8.19166497e-01, 1.94101603e-01, 2.61192967e-01,\n",
       "        0.00000000e+00],\n",
       "       [4.32165405e-01, 1.97618132e+00, 4.21564419e-01, 3.96171883e-01,\n",
       "        0.00000000e+00],\n",
       "       [2.94841818e-01, 1.28197243e+00, 8.03701950e-02, 1.29719997e-01,\n",
       "        0.00000000e+00],\n",
       "       [6.86617933e-02, 3.37848329e-01, 5.92161531e-01, 7.90590793e-01,\n",
       "        0.00000000e+00],\n",
       "       [3.10997534e-01, 5.87763531e-01, 1.37235899e-01, 1.33225943e-01,\n",
       "        0.00000000e+00],\n",
       "       [5.53333275e-01, 1.28197243e+00, 6.49027235e-01, 3.96171883e-01,\n",
       "        0.00000000e+00],\n",
       "       [3.10997534e-01, 5.87763531e-01, 5.35295827e-01, 1.75297293e-03,\n",
       "        0.00000000e+00],\n",
       "       [6.74501145e-01, 3.56360566e-01, 3.07833011e-01, 1.33225943e-01,\n",
       "        0.00000000e+00],\n",
       "       [9.16836886e-01, 1.24957601e-01, 3.64698715e-01, 2.64698913e-01,\n",
       "        0.00000000e+00],\n",
       "       [1.15917263e+00, 5.87763531e-01, 5.92161531e-01, 2.64698913e-01,\n",
       "        0.00000000e+00],\n",
       "       [1.03800476e+00, 1.24957601e-01, 7.05892939e-01, 6.59117823e-01,\n",
       "        0.00000000e+00],\n",
       "       [1.89829664e-01, 3.56360566e-01, 4.21564419e-01, 3.96171883e-01,\n",
       "        0.00000000e+00],\n",
       "       [1.73673948e-01, 1.05056946e+00, 1.47092621e-01, 2.61192967e-01,\n",
       "        0.00000000e+00],\n",
       "       [4.16009689e-01, 1.51337539e+00, 2.35044910e-02, 1.29719997e-01,\n",
       "        0.00000000e+00],\n",
       "       [4.16009689e-01, 1.51337539e+00, 3.33612130e-02, 2.61192967e-01,\n",
       "        0.00000000e+00],\n",
       "       [5.25060772e-02, 8.19166497e-01, 8.03701950e-02, 1.75297293e-03,\n",
       "        0.00000000e+00],\n",
       "       [1.89829664e-01, 8.19166497e-01, 7.62758643e-01, 5.27644853e-01,\n",
       "        0.00000000e+00],\n",
       "       [5.37177559e-01, 1.24957601e-01, 4.21564419e-01, 3.96171883e-01,\n",
       "        0.00000000e+00],\n",
       "       [1.89829664e-01, 8.00654259e-01, 4.21564419e-01, 5.27644853e-01,\n",
       "        0.00000000e+00],\n",
       "       [1.03800476e+00, 1.06445364e-01, 5.35295827e-01, 3.96171883e-01,\n",
       "        0.00000000e+00],\n",
       "       [5.53333275e-01, 1.74477836e+00, 3.64698715e-01, 1.33225943e-01,\n",
       "        0.00000000e+00],\n",
       "       [2.94841818e-01, 1.24957601e-01, 1.94101603e-01, 1.33225943e-01,\n",
       "        0.00000000e+00],\n",
       "       [4.16009689e-01, 1.28197243e+00, 1.37235899e-01, 1.33225943e-01,\n",
       "        0.00000000e+00],\n",
       "       [4.16009689e-01, 1.05056946e+00, 3.64698715e-01, 1.75297293e-03,\n",
       "        0.00000000e+00],\n",
       "       [3.10997534e-01, 1.24957601e-01, 4.78430123e-01, 2.64698913e-01,\n",
       "        0.00000000e+00],\n",
       "       [5.25060772e-02, 1.05056946e+00, 1.37235899e-01, 1.75297293e-03,\n",
       "        0.00000000e+00],\n",
       "       [1.02184904e+00, 1.74477836e+00, 2.60824029e-01, 2.61192967e-01,\n",
       "        0.00000000e+00],\n",
       "       [2.94841818e-01, 8.19166497e-01, 2.50967307e-01, 1.33225943e-01,\n",
       "        0.00000000e+00],\n",
       "       [1.73673948e-01, 1.24957601e-01, 2.50967307e-01, 1.75297293e-03,\n",
       "        0.00000000e+00],\n",
       "       [1.73673948e-01, 3.56360566e-01, 2.50967307e-01, 1.33225943e-01,\n",
       "        0.00000000e+00],\n",
       "       [4.32165405e-01, 3.56360566e-01, 3.07833011e-01, 1.33225943e-01,\n",
       "        0.00000000e+00],\n",
       "       [9.00681170e-01, 1.28197243e+00, 4.31421141e-01, 1.29719997e-01,\n",
       "        0.00000000e+00],\n",
       "       [1.73673948e-01, 5.87763531e-01, 1.94101603e-01, 1.33225943e-01,\n",
       "        0.00000000e+00],\n",
       "       [5.53333275e-01, 5.69251294e-01, 1.27454998e+00, 1.71090158e+00,\n",
       "        1.22474487e+00],\n",
       "       [5.25060772e-02, 8.19166497e-01, 7.62758643e-01, 9.22063763e-01,\n",
       "        1.22474487e+00],\n",
       "       [1.52267624e+00, 1.24957601e-01, 1.21768427e+00, 1.18500970e+00,\n",
       "        1.22474487e+00],\n",
       "       [5.53333275e-01, 3.56360566e-01, 1.04708716e+00, 7.90590793e-01,\n",
       "        1.22474487e+00],\n",
       "       [7.95669016e-01, 1.24957601e-01, 1.16081857e+00, 1.31648267e+00,\n",
       "        1.22474487e+00],\n",
       "       [2.12851559e+00, 1.24957601e-01, 1.61574420e+00, 1.18500970e+00,\n",
       "        1.22474487e+00],\n",
       "       [1.14301691e+00, 1.28197243e+00, 4.21564419e-01, 6.59117823e-01,\n",
       "        1.22474487e+00],\n",
       "       [1.76501198e+00, 3.56360566e-01, 1.44514709e+00, 7.90590793e-01,\n",
       "        1.22474487e+00],\n",
       "       [1.03800476e+00, 1.28197243e+00, 1.16081857e+00, 7.90590793e-01,\n",
       "        1.22474487e+00],\n",
       "       [1.64384411e+00, 1.26346019e+00, 1.33141568e+00, 1.71090158e+00,\n",
       "        1.22474487e+00],\n",
       "       [7.95669016e-01, 3.37848329e-01, 7.62758643e-01, 1.05353673e+00,\n",
       "        1.22474487e+00],\n",
       "       [6.74501145e-01, 8.19166497e-01, 8.76490051e-01, 9.22063763e-01,\n",
       "        1.22474487e+00],\n",
       "       [1.15917263e+00, 1.24957601e-01, 9.90221459e-01, 1.18500970e+00,\n",
       "        1.22474487e+00],\n",
       "       [1.73673948e-01, 1.28197243e+00, 7.05892939e-01, 1.05353673e+00,\n",
       "        1.22474487e+00],\n",
       "       [5.25060772e-02, 5.87763531e-01, 7.62758643e-01, 1.57942861e+00,\n",
       "        1.22474487e+00],\n",
       "       [6.74501145e-01, 3.37848329e-01, 8.76490051e-01, 1.44795564e+00,\n",
       "        1.22474487e+00],\n",
       "       [7.95669016e-01, 1.24957601e-01, 9.90221459e-01, 7.90590793e-01,\n",
       "        1.22474487e+00],\n",
       "       [2.24968346e+00, 1.72626612e+00, 1.67260991e+00, 1.31648267e+00,\n",
       "        1.22474487e+00],\n",
       "       [2.24968346e+00, 1.05056946e+00, 1.78634131e+00, 1.44795564e+00,\n",
       "        1.22474487e+00],\n",
       "       [1.89829664e-01, 1.97618132e+00, 7.05892939e-01, 3.96171883e-01,\n",
       "        1.22474487e+00],\n",
       "       [1.28034050e+00, 3.37848329e-01, 1.10395287e+00, 1.44795564e+00,\n",
       "        1.22474487e+00],\n",
       "       [2.94841818e-01, 5.87763531e-01, 6.49027235e-01, 1.05353673e+00,\n",
       "        1.22474487e+00],\n",
       "       [2.24968346e+00, 5.87763531e-01, 1.67260991e+00, 1.05353673e+00,\n",
       "        1.22474487e+00],\n",
       "       [5.53333275e-01, 8.19166497e-01, 6.49027235e-01, 7.90590793e-01,\n",
       "        1.22474487e+00],\n",
       "       [1.03800476e+00, 5.69251294e-01, 1.10395287e+00, 1.18500970e+00,\n",
       "        1.22474487e+00],\n",
       "       [1.64384411e+00, 3.37848329e-01, 1.27454998e+00, 7.90590793e-01,\n",
       "        1.22474487e+00],\n",
       "       [4.32165405e-01, 5.87763531e-01, 5.92161531e-01, 7.90590793e-01,\n",
       "        1.22474487e+00],\n",
       "       [3.10997534e-01, 1.24957601e-01, 6.49027235e-01, 7.90590793e-01,\n",
       "        1.22474487e+00],\n",
       "       [6.74501145e-01, 5.87763531e-01, 1.04708716e+00, 1.18500970e+00,\n",
       "        1.22474487e+00],\n",
       "       [1.64384411e+00, 1.24957601e-01, 1.16081857e+00, 5.27644853e-01,\n",
       "        1.22474487e+00],\n",
       "       [1.88617985e+00, 5.87763531e-01, 1.33141568e+00, 9.22063763e-01,\n",
       "        1.22474487e+00],\n",
       "       [2.49201920e+00, 1.72626612e+00, 1.50201279e+00, 1.05353673e+00,\n",
       "        1.22474487e+00],\n",
       "       [6.74501145e-01, 5.87763531e-01, 1.04708716e+00, 1.31648267e+00,\n",
       "        1.22474487e+00],\n",
       "       [5.53333275e-01, 5.87763531e-01, 7.62758643e-01, 3.96171883e-01,\n",
       "        1.22474487e+00],\n",
       "       [3.10997534e-01, 1.05056946e+00, 1.04708716e+00, 2.64698913e-01,\n",
       "        1.22474487e+00],\n",
       "       [2.24968346e+00, 1.24957601e-01, 1.33141568e+00, 1.44795564e+00,\n",
       "        1.22474487e+00],\n",
       "       [5.53333275e-01, 8.00654259e-01, 1.04708716e+00, 1.57942861e+00,\n",
       "        1.22474487e+00],\n",
       "       [6.74501145e-01, 1.06445364e-01, 9.90221459e-01, 7.90590793e-01,\n",
       "        1.22474487e+00],\n",
       "       [1.89829664e-01, 1.24957601e-01, 5.92161531e-01, 7.90590793e-01,\n",
       "        1.22474487e+00],\n",
       "       [1.28034050e+00, 1.06445364e-01, 9.33355755e-01, 1.18500970e+00,\n",
       "        1.22474487e+00],\n",
       "       [1.03800476e+00, 1.06445364e-01, 1.04708716e+00, 1.57942861e+00,\n",
       "        1.22474487e+00],\n",
       "       [1.28034050e+00, 1.06445364e-01, 7.62758643e-01, 1.44795564e+00,\n",
       "        1.22474487e+00],\n",
       "       [5.25060772e-02, 8.19166497e-01, 7.62758643e-01, 9.22063763e-01,\n",
       "        1.22474487e+00],\n",
       "       [1.15917263e+00, 3.37848329e-01, 1.21768427e+00, 1.44795564e+00,\n",
       "        1.22474487e+00],\n",
       "       [1.03800476e+00, 5.69251294e-01, 1.10395287e+00, 1.71090158e+00,\n",
       "        1.22474487e+00],\n",
       "       [1.03800476e+00, 1.24957601e-01, 8.19624347e-01, 1.44795564e+00,\n",
       "        1.22474487e+00],\n",
       "       [5.53333275e-01, 1.28197243e+00, 7.05892939e-01, 9.22063763e-01,\n",
       "        1.22474487e+00],\n",
       "       [7.95669016e-01, 1.24957601e-01, 8.19624347e-01, 1.05353673e+00,\n",
       "        1.22474487e+00],\n",
       "       [4.32165405e-01, 8.00654259e-01, 9.33355755e-01, 1.44795564e+00,\n",
       "        1.22474487e+00],\n",
       "       [6.86617933e-02, 1.24957601e-01, 7.62758643e-01, 7.90590793e-01,\n",
       "        1.22474487e+00]])"
      ]
     },
     "execution_count": 268,
     "metadata": {},
     "output_type": "execute_result"
    }
   ],
   "source": [
    "z=np.abs(zscore(df))\n",
    "z"
   ]
  },
  {
   "cell_type": "code",
   "execution_count": 269,
   "metadata": {},
   "outputs": [
    {
     "name": "stdout",
     "output_type": "stream",
     "text": [
      "(array([15], dtype=int64), array([1], dtype=int64))\n"
     ]
    }
   ],
   "source": [
    "thresholds=3\n",
    "print(np.where(z>3))"
   ]
  },
  {
   "cell_type": "code",
   "execution_count": 270,
   "metadata": {},
   "outputs": [],
   "source": [
    "df_new=df[(z<3).all(axis=1)]"
   ]
  },
  {
   "cell_type": "code",
   "execution_count": 271,
   "metadata": {},
   "outputs": [
    {
     "name": "stdout",
     "output_type": "stream",
     "text": [
      "(150, 5) \t\t (149, 5)\n"
     ]
    }
   ],
   "source": [
    "print(df.shape,'\\t\\t',df_new.shape)"
   ]
  },
  {
   "cell_type": "code",
   "execution_count": 272,
   "metadata": {},
   "outputs": [],
   "source": [
    "df=df_new"
   ]
  },
  {
   "cell_type": "code",
   "execution_count": 273,
   "metadata": {},
   "outputs": [
    {
     "data": {
      "text/plain": [
       "(149, 5)"
      ]
     },
     "execution_count": 273,
     "metadata": {},
     "output_type": "execute_result"
    }
   ],
   "source": [
    "df.shape"
   ]
  },
  {
   "cell_type": "code",
   "execution_count": 274,
   "metadata": {},
   "outputs": [],
   "source": [
    "#all outliers are removed"
   ]
  },
  {
   "cell_type": "markdown",
   "metadata": {},
   "source": [
    "# Model Training"
   ]
  },
  {
   "cell_type": "code",
   "execution_count": 275,
   "metadata": {},
   "outputs": [],
   "source": [
    "x=df.drop(columns=['class'],axis=1)"
   ]
  },
  {
   "cell_type": "code",
   "execution_count": 276,
   "metadata": {},
   "outputs": [
    {
     "data": {
      "text/html": [
       "<div>\n",
       "<style scoped>\n",
       "    .dataframe tbody tr th:only-of-type {\n",
       "        vertical-align: middle;\n",
       "    }\n",
       "\n",
       "    .dataframe tbody tr th {\n",
       "        vertical-align: top;\n",
       "    }\n",
       "\n",
       "    .dataframe thead th {\n",
       "        text-align: right;\n",
       "    }\n",
       "</style>\n",
       "<table border=\"1\" class=\"dataframe\">\n",
       "  <thead>\n",
       "    <tr style=\"text-align: right;\">\n",
       "      <th></th>\n",
       "      <th>sepal length</th>\n",
       "      <th>sepal width</th>\n",
       "      <th>petal length</th>\n",
       "      <th>petal width</th>\n",
       "    </tr>\n",
       "  </thead>\n",
       "  <tbody>\n",
       "    <tr>\n",
       "      <th>0</th>\n",
       "      <td>5.1</td>\n",
       "      <td>3.5</td>\n",
       "      <td>1.4</td>\n",
       "      <td>0.2</td>\n",
       "    </tr>\n",
       "    <tr>\n",
       "      <th>1</th>\n",
       "      <td>4.9</td>\n",
       "      <td>3.0</td>\n",
       "      <td>1.4</td>\n",
       "      <td>0.2</td>\n",
       "    </tr>\n",
       "    <tr>\n",
       "      <th>2</th>\n",
       "      <td>4.7</td>\n",
       "      <td>3.2</td>\n",
       "      <td>1.3</td>\n",
       "      <td>0.2</td>\n",
       "    </tr>\n",
       "    <tr>\n",
       "      <th>3</th>\n",
       "      <td>4.6</td>\n",
       "      <td>3.1</td>\n",
       "      <td>1.5</td>\n",
       "      <td>0.2</td>\n",
       "    </tr>\n",
       "    <tr>\n",
       "      <th>4</th>\n",
       "      <td>5.0</td>\n",
       "      <td>3.6</td>\n",
       "      <td>1.4</td>\n",
       "      <td>0.2</td>\n",
       "    </tr>\n",
       "  </tbody>\n",
       "</table>\n",
       "</div>"
      ],
      "text/plain": [
       "   sepal length  sepal width  petal length  petal width\n",
       "0           5.1          3.5           1.4          0.2\n",
       "1           4.9          3.0           1.4          0.2\n",
       "2           4.7          3.2           1.3          0.2\n",
       "3           4.6          3.1           1.5          0.2\n",
       "4           5.0          3.6           1.4          0.2"
      ]
     },
     "execution_count": 276,
     "metadata": {},
     "output_type": "execute_result"
    }
   ],
   "source": [
    "x.head()"
   ]
  },
  {
   "cell_type": "code",
   "execution_count": 277,
   "metadata": {},
   "outputs": [],
   "source": [
    "y=df['class']"
   ]
  },
  {
   "cell_type": "code",
   "execution_count": 278,
   "metadata": {},
   "outputs": [
    {
     "data": {
      "text/plain": [
       "0    0\n",
       "1    0\n",
       "2    0\n",
       "3    0\n",
       "4    0\n",
       "Name: class, dtype: int32"
      ]
     },
     "execution_count": 278,
     "metadata": {},
     "output_type": "execute_result"
    }
   ],
   "source": [
    "y.head()"
   ]
  },
  {
   "cell_type": "code",
   "execution_count": 279,
   "metadata": {},
   "outputs": [],
   "source": [
    "#scaling input variable"
   ]
  },
  {
   "cell_type": "code",
   "execution_count": 280,
   "metadata": {},
   "outputs": [],
   "source": [
    "from sklearn.preprocessing import StandardScaler"
   ]
  },
  {
   "cell_type": "code",
   "execution_count": 281,
   "metadata": {},
   "outputs": [],
   "source": [
    "ss=StandardScaler()\n",
    "x=ss.fit_transform(x)"
   ]
  },
  {
   "cell_type": "code",
   "execution_count": 282,
   "metadata": {},
   "outputs": [],
   "source": [
    "#Splitting the data into training and testing data"
   ]
  },
  {
   "cell_type": "code",
   "execution_count": 283,
   "metadata": {},
   "outputs": [],
   "source": [
    "from sklearn.model_selection import train_test_split"
   ]
  },
  {
   "cell_type": "code",
   "execution_count": 284,
   "metadata": {},
   "outputs": [],
   "source": [
    "x_train,x_test,y_train,y_test=train_test_split(x,y,test_size=.20,random_state=42)"
   ]
  },
  {
   "cell_type": "code",
   "execution_count": 285,
   "metadata": {},
   "outputs": [
    {
     "data": {
      "text/plain": [
       "(119, 4)"
      ]
     },
     "execution_count": 285,
     "metadata": {},
     "output_type": "execute_result"
    }
   ],
   "source": [
    "x_train.shape"
   ]
  },
  {
   "cell_type": "code",
   "execution_count": 286,
   "metadata": {},
   "outputs": [
    {
     "data": {
      "text/plain": [
       "(30, 4)"
      ]
     },
     "execution_count": 286,
     "metadata": {},
     "output_type": "execute_result"
    }
   ],
   "source": [
    "x_test.shape"
   ]
  },
  {
   "cell_type": "code",
   "execution_count": 287,
   "metadata": {},
   "outputs": [
    {
     "data": {
      "text/plain": [
       "(119,)"
      ]
     },
     "execution_count": 287,
     "metadata": {},
     "output_type": "execute_result"
    }
   ],
   "source": [
    "y_train.shape"
   ]
  },
  {
   "cell_type": "code",
   "execution_count": 288,
   "metadata": {},
   "outputs": [
    {
     "data": {
      "text/plain": [
       "(30,)"
      ]
     },
     "execution_count": 288,
     "metadata": {},
     "output_type": "execute_result"
    }
   ],
   "source": [
    "y_test.shape"
   ]
  },
  {
   "cell_type": "code",
   "execution_count": 289,
   "metadata": {},
   "outputs": [],
   "source": [
    "from sklearn.naive_bayes import GaussianNB\n",
    "from sklearn.svm import SVC\n",
    "from sklearn.tree import DecisionTreeClassifier\n",
    "from sklearn.neighbors import KNeighborsClassifier\n",
    "from sklearn.metrics import accuracy_score,confusion_matrix,classification_report"
   ]
  },
  {
   "cell_type": "code",
   "execution_count": 290,
   "metadata": {},
   "outputs": [],
   "source": [
    "gnb=GaussianNB()\n",
    "gnb.fit(x_train,y_train)\n",
    "predgnb=gnb.predict(x_test)"
   ]
  },
  {
   "cell_type": "code",
   "execution_count": 291,
   "metadata": {},
   "outputs": [
    {
     "name": "stdout",
     "output_type": "stream",
     "text": [
      "0.8666666666666667\n",
      "[[10  0  0]\n",
      " [ 0  5  4]\n",
      " [ 0  0 11]]\n",
      "              precision    recall  f1-score   support\n",
      "\n",
      "           0       1.00      1.00      1.00        10\n",
      "           1       1.00      0.56      0.71         9\n",
      "           2       0.73      1.00      0.85        11\n",
      "\n",
      "    accuracy                           0.87        30\n",
      "   macro avg       0.91      0.85      0.85        30\n",
      "weighted avg       0.90      0.87      0.86        30\n",
      "\n"
     ]
    }
   ],
   "source": [
    "print(accuracy_score(y_test,predgnb))\n",
    "print(confusion_matrix(y_test,predgnb))\n",
    "print(classification_report(y_test,predgnb))"
   ]
  },
  {
   "cell_type": "code",
   "execution_count": 292,
   "metadata": {},
   "outputs": [],
   "source": [
    "#Kernel='rbf'-->default"
   ]
  },
  {
   "cell_type": "code",
   "execution_count": 293,
   "metadata": {},
   "outputs": [],
   "source": [
    "#SVC classifier"
   ]
  },
  {
   "cell_type": "code",
   "execution_count": 294,
   "metadata": {},
   "outputs": [],
   "source": [
    "svc=SVC(kernel='rbf')\n",
    "svc.fit(x_train,y_train)\n",
    "svc.score(x_train,y_train)\n",
    "predsvc=svc.predict(x_test)"
   ]
  },
  {
   "cell_type": "code",
   "execution_count": 295,
   "metadata": {},
   "outputs": [
    {
     "name": "stdout",
     "output_type": "stream",
     "text": [
      "0.9333333333333333\n",
      "[[10  0  0]\n",
      " [ 0  7  2]\n",
      " [ 0  0 11]]\n",
      "              precision    recall  f1-score   support\n",
      "\n",
      "           0       1.00      1.00      1.00        10\n",
      "           1       1.00      0.78      0.88         9\n",
      "           2       0.85      1.00      0.92        11\n",
      "\n",
      "    accuracy                           0.93        30\n",
      "   macro avg       0.95      0.93      0.93        30\n",
      "weighted avg       0.94      0.93      0.93        30\n",
      "\n"
     ]
    }
   ],
   "source": [
    "print(accuracy_score(y_test,predsvc))\n",
    "print(confusion_matrix(y_test,predsvc))\n",
    "print(classification_report(y_test,predsvc))"
   ]
  },
  {
   "cell_type": "code",
   "execution_count": 296,
   "metadata": {},
   "outputs": [],
   "source": [
    "#DecisionTreeClassifier"
   ]
  },
  {
   "cell_type": "code",
   "execution_count": 297,
   "metadata": {},
   "outputs": [],
   "source": [
    "dtc=DecisionTreeClassifier()\n",
    "dtc.fit(x_train,y_train)\n",
    "dtc.score(x_train,y_train)\n",
    "preddtc=dtc.predict(x_test)"
   ]
  },
  {
   "cell_type": "code",
   "execution_count": 298,
   "metadata": {},
   "outputs": [
    {
     "name": "stdout",
     "output_type": "stream",
     "text": [
      "0.9\n",
      "[[10  0  0]\n",
      " [ 0  6  3]\n",
      " [ 0  0 11]]\n",
      "              precision    recall  f1-score   support\n",
      "\n",
      "           0       1.00      1.00      1.00        10\n",
      "           1       1.00      0.67      0.80         9\n",
      "           2       0.79      1.00      0.88        11\n",
      "\n",
      "    accuracy                           0.90        30\n",
      "   macro avg       0.93      0.89      0.89        30\n",
      "weighted avg       0.92      0.90      0.90        30\n",
      "\n"
     ]
    }
   ],
   "source": [
    "print(accuracy_score(y_test,preddtc))\n",
    "print(confusion_matrix(y_test,preddtc))\n",
    "print(classification_report(y_test,preddtc))"
   ]
  },
  {
   "cell_type": "code",
   "execution_count": 299,
   "metadata": {},
   "outputs": [],
   "source": [
    "#KNeighbors Classifier"
   ]
  },
  {
   "cell_type": "code",
   "execution_count": 300,
   "metadata": {},
   "outputs": [],
   "source": [
    "knn=KNeighborsClassifier()\n",
    "knn.fit(x_train,y_train)\n",
    "knn.score(x_train,y_train)\n",
    "predknn=knn.predict(x_test)"
   ]
  },
  {
   "cell_type": "code",
   "execution_count": 301,
   "metadata": {},
   "outputs": [
    {
     "name": "stdout",
     "output_type": "stream",
     "text": [
      "0.9333333333333333\n",
      "[[10  0  0]\n",
      " [ 0  7  2]\n",
      " [ 0  0 11]]\n",
      "              precision    recall  f1-score   support\n",
      "\n",
      "           0       1.00      1.00      1.00        10\n",
      "           1       1.00      0.78      0.88         9\n",
      "           2       0.85      1.00      0.92        11\n",
      "\n",
      "    accuracy                           0.93        30\n",
      "   macro avg       0.95      0.93      0.93        30\n",
      "weighted avg       0.94      0.93      0.93        30\n",
      "\n"
     ]
    }
   ],
   "source": [
    "print(accuracy_score(y_test,predknn))\n",
    "print(confusion_matrix(y_test,predknn))\n",
    "print(classification_report(y_test,predknn))"
   ]
  },
  {
   "cell_type": "code",
   "execution_count": 302,
   "metadata": {},
   "outputs": [],
   "source": [
    "#kernel=ploy"
   ]
  },
  {
   "cell_type": "code",
   "execution_count": 303,
   "metadata": {},
   "outputs": [],
   "source": [
    "svc=SVC(kernel='poly')\n",
    "svc.fit(x_train,y_train)\n",
    "svc.score(x_train,y_train)\n",
    "predsvc=svc.predict(x_test)"
   ]
  },
  {
   "cell_type": "code",
   "execution_count": 304,
   "metadata": {},
   "outputs": [
    {
     "name": "stdout",
     "output_type": "stream",
     "text": [
      "0.9666666666666667\n",
      "[[10  0  0]\n",
      " [ 0  9  0]\n",
      " [ 0  1 10]]\n",
      "              precision    recall  f1-score   support\n",
      "\n",
      "           0       1.00      1.00      1.00        10\n",
      "           1       0.90      1.00      0.95         9\n",
      "           2       1.00      0.91      0.95        11\n",
      "\n",
      "    accuracy                           0.97        30\n",
      "   macro avg       0.97      0.97      0.97        30\n",
      "weighted avg       0.97      0.97      0.97        30\n",
      "\n"
     ]
    }
   ],
   "source": [
    "print(accuracy_score(y_test,predsvc))\n",
    "print(confusion_matrix(y_test,predsvc))\n",
    "print(classification_report(y_test,predsvc))"
   ]
  },
  {
   "cell_type": "code",
   "execution_count": 305,
   "metadata": {},
   "outputs": [],
   "source": [
    "#saving the model"
   ]
  },
  {
   "cell_type": "code",
   "execution_count": 306,
   "metadata": {},
   "outputs": [],
   "source": [
    "df1=pd.DataFrame(predsvc)\n",
    "df1.to_csv(\"SVC_prediction.pkl\")"
   ]
  },
  {
   "cell_type": "code",
   "execution_count": 307,
   "metadata": {},
   "outputs": [],
   "source": [
    "import joblib"
   ]
  },
  {
   "cell_type": "code",
   "execution_count": 308,
   "metadata": {},
   "outputs": [
    {
     "data": {
      "text/plain": [
       "['iris_data_svc.pkl']"
      ]
     },
     "execution_count": 308,
     "metadata": {},
     "output_type": "execute_result"
    }
   ],
   "source": [
    "joblib.dump(svc,'iris_data_svc.pkl')"
   ]
  },
  {
   "cell_type": "code",
   "execution_count": null,
   "metadata": {},
   "outputs": [],
   "source": []
  }
 ],
 "metadata": {
  "kernelspec": {
   "display_name": "Python 3",
   "language": "python",
   "name": "python3"
  },
  "language_info": {
   "codemirror_mode": {
    "name": "ipython",
    "version": 3
   },
   "file_extension": ".py",
   "mimetype": "text/x-python",
   "name": "python",
   "nbconvert_exporter": "python",
   "pygments_lexer": "ipython3",
   "version": "3.8.3"
  }
 },
 "nbformat": 4,
 "nbformat_minor": 4
}
