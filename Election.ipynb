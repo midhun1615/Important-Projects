{
 "cells": [
  {
   "cell_type": "code",
   "execution_count": 1,
   "metadata": {},
   "outputs": [],
   "source": [
    "import numpy as np\n",
    "import pandas as pd\n",
    "import matplotlib.pyplot as plt\n",
    "import seaborn as sns\n",
    "import warnings\n",
    "warnings.filterwarnings(\"ignore\")"
   ]
  },
  {
   "cell_type": "code",
   "execution_count": 2,
   "metadata": {},
   "outputs": [],
   "source": [
    "df=pd.read_csv(\"Election_2019.csv\")"
   ]
  },
  {
   "cell_type": "code",
   "execution_count": 3,
   "metadata": {},
   "outputs": [
    {
     "data": {
      "text/plain": [
       "Index(['TimeElapsed', 'time', 'territoryName', 'totalMandates',\n",
       "       'availableMandates', 'numParishes', 'numParishesApproved', 'blankVotes',\n",
       "       'blankVotesPercentage', 'nullVotes', 'nullVotesPercentage',\n",
       "       'votersPercentage', 'subscribedVoters', 'totalVoters', 'pre.blankVotes',\n",
       "       'pre.blankVotesPercentage', 'pre.nullVotes', 'pre.nullVotesPercentage',\n",
       "       'pre.votersPercentage', 'pre.subscribedVoters', 'pre.totalVoters',\n",
       "       'Party', 'Mandates', 'Percentage', 'validVotesPercentage', 'Votes',\n",
       "       'Hondt', 'FinalMandates'],\n",
       "      dtype='object')"
      ]
     },
     "execution_count": 3,
     "metadata": {},
     "output_type": "execute_result"
    }
   ],
   "source": [
    "df.columns"
   ]
  },
  {
   "cell_type": "code",
   "execution_count": 6,
   "metadata": {},
   "outputs": [
    {
     "data": {
      "text/plain": [
       "<bound method NDFrame.keys of        TimeElapsed              time        territoryName  totalMandates  \\\n",
       "0                0  06-10-2019 20:10  Território Nacional              0   \n",
       "1                0  06-10-2019 20:10  Território Nacional              0   \n",
       "2                0  06-10-2019 20:10  Território Nacional              0   \n",
       "3                0  06-10-2019 20:10  Território Nacional              0   \n",
       "4                0  06-10-2019 20:10  Território Nacional              0   \n",
       "...            ...               ...                  ...            ...   \n",
       "21638          265  07-10-2019 00:35                Viseu              8   \n",
       "21639          265  07-10-2019 00:35                Viseu              8   \n",
       "21640          265  07-10-2019 00:35                Viseu              8   \n",
       "21641          265  07-10-2019 00:35                Viseu              8   \n",
       "21642          265  07-10-2019 00:35                Viseu              8   \n",
       "\n",
       "       availableMandates  numParishes  numParishesApproved  blankVotes  \\\n",
       "0                    226         3092                 1081        9652   \n",
       "1                    226         3092                 1081        9652   \n",
       "2                    226         3092                 1081        9652   \n",
       "3                    226         3092                 1081        9652   \n",
       "4                    226         3092                 1081        9652   \n",
       "...                  ...          ...                  ...         ...   \n",
       "21638                  0          277                  277        4995   \n",
       "21639                  0          277                  277        4995   \n",
       "21640                  0          277                  277        4995   \n",
       "21641                  0          277                  277        4995   \n",
       "21642                  0          277                  277        4995   \n",
       "\n",
       "       blankVotesPercentage  nullVotes  ...  pre.votersPercentage  \\\n",
       "0                      2.50       8874  ...                 52.66   \n",
       "1                      2.50       8874  ...                 52.66   \n",
       "2                      2.50       8874  ...                 52.66   \n",
       "3                      2.50       8874  ...                 52.66   \n",
       "4                      2.50       8874  ...                 52.66   \n",
       "...                     ...        ...  ...                   ...   \n",
       "21638                  2.81       3700  ...                 51.28   \n",
       "21639                  2.81       3700  ...                 51.28   \n",
       "21640                  2.81       3700  ...                 51.28   \n",
       "21641                  2.81       3700  ...                 51.28   \n",
       "21642                  2.81       3700  ...                 51.28   \n",
       "\n",
       "       pre.subscribedVoters  pre.totalVoters    Party  Mandates  Percentage  \\\n",
       "0                    813743           428546       PS         0       38.29   \n",
       "1                    813743           428546  PPD/PSD         0       33.28   \n",
       "2                    813743           428546     B.E.         0        6.81   \n",
       "3                    813743           428546   CDS-PP         0        4.90   \n",
       "4                    813743           428546  PCP-PEV         0        4.59   \n",
       "...                     ...              ...      ...       ...         ...   \n",
       "21638                371931           190712       NC         0        0.19   \n",
       "21639                371931           190712      PNR         0        0.18   \n",
       "21640                371931           190712      MPT         0        0.14   \n",
       "21641                371931           190712      PTP         0        0.13   \n",
       "21642                371931           190712      JPP         0        0.07   \n",
       "\n",
       "       validVotesPercentage   Votes  Hondt  FinalMandates  \n",
       "0                     40.22  147993     94            106  \n",
       "1                     34.95  128624     81             77  \n",
       "2                      7.15   26307     16             19  \n",
       "3                      5.14   18923     12              5  \n",
       "4                      4.83   17757     11             12  \n",
       "...                     ...     ...    ...            ...  \n",
       "21638                  0.20     332      0              0  \n",
       "21639                  0.19     326      0              0  \n",
       "21640                  0.15     256      0              0  \n",
       "21641                  0.14     239      0              0  \n",
       "21642                  0.07     118      0              0  \n",
       "\n",
       "[21643 rows x 28 columns]>"
      ]
     },
     "execution_count": 6,
     "metadata": {},
     "output_type": "execute_result"
    }
   ],
   "source": [
    "df.keys"
   ]
  },
  {
   "cell_type": "code",
   "execution_count": 8,
   "metadata": {},
   "outputs": [
    {
     "data": {
      "text/plain": [
       "0        Território Nacional\n",
       "1        Território Nacional\n",
       "2        Território Nacional\n",
       "3        Território Nacional\n",
       "4        Território Nacional\n",
       "                ...         \n",
       "21638                  Viseu\n",
       "21639                  Viseu\n",
       "21640                  Viseu\n",
       "21641                  Viseu\n",
       "21642                  Viseu\n",
       "Name: territoryName, Length: 21643, dtype: object"
      ]
     },
     "execution_count": 8,
     "metadata": {},
     "output_type": "execute_result"
    }
   ],
   "source": [
    "df.territoryName"
   ]
  },
  {
   "cell_type": "code",
   "execution_count": 9,
   "metadata": {},
   "outputs": [
    {
     "data": {
      "text/plain": [
       "0        147993\n",
       "1        128624\n",
       "2         26307\n",
       "3         18923\n",
       "4         17757\n",
       "          ...  \n",
       "21638       332\n",
       "21639       326\n",
       "21640       256\n",
       "21641       239\n",
       "21642       118\n",
       "Name: Votes, Length: 21643, dtype: int64"
      ]
     },
     "execution_count": 9,
     "metadata": {},
     "output_type": "execute_result"
    }
   ],
   "source": [
    "df.Votes"
   ]
  },
  {
   "cell_type": "code",
   "execution_count": 10,
   "metadata": {},
   "outputs": [
    {
     "data": {
      "text/plain": [
       "0        106\n",
       "1         77\n",
       "2         19\n",
       "3          5\n",
       "4         12\n",
       "        ... \n",
       "21638      0\n",
       "21639      0\n",
       "21640      0\n",
       "21641      0\n",
       "21642      0\n",
       "Name: FinalMandates, Length: 21643, dtype: int64"
      ]
     },
     "execution_count": 10,
     "metadata": {},
     "output_type": "execute_result"
    }
   ],
   "source": [
    "df.FinalMandates"
   ]
  },
  {
   "cell_type": "code",
   "execution_count": 11,
   "metadata": {},
   "outputs": [
    {
     "data": {
      "text/plain": [
       "0        40.22\n",
       "1        34.95\n",
       "2         7.15\n",
       "3         5.14\n",
       "4         4.83\n",
       "         ...  \n",
       "21638     0.20\n",
       "21639     0.19\n",
       "21640     0.15\n",
       "21641     0.14\n",
       "21642     0.07\n",
       "Name: validVotesPercentage, Length: 21643, dtype: float64"
      ]
     },
     "execution_count": 11,
     "metadata": {},
     "output_type": "execute_result"
    }
   ],
   "source": [
    "df.validVotesPercentage"
   ]
  },
  {
   "cell_type": "code",
   "execution_count": 12,
   "metadata": {},
   "outputs": [],
   "source": [
    "data=pd.DataFrame(df.territoryName,columns=df.validVotesPercentage)"
   ]
  },
  {
   "cell_type": "code",
   "execution_count": 13,
   "metadata": {},
   "outputs": [
    {
     "data": {
      "text/html": [
       "<div>\n",
       "<style scoped>\n",
       "    .dataframe tbody tr th:only-of-type {\n",
       "        vertical-align: middle;\n",
       "    }\n",
       "\n",
       "    .dataframe tbody tr th {\n",
       "        vertical-align: top;\n",
       "    }\n",
       "\n",
       "    .dataframe thead th {\n",
       "        text-align: right;\n",
       "    }\n",
       "</style>\n",
       "<table border=\"1\" class=\"dataframe\">\n",
       "  <thead>\n",
       "    <tr style=\"text-align: right;\">\n",
       "      <th>validVotesPercentage</th>\n",
       "      <th>40.22</th>\n",
       "      <th>34.95</th>\n",
       "      <th>7.15</th>\n",
       "      <th>5.14</th>\n",
       "      <th>4.83</th>\n",
       "      <th>1.84</th>\n",
       "      <th>0.99</th>\n",
       "      <th>0.93</th>\n",
       "      <th>0.70</th>\n",
       "      <th>0.51</th>\n",
       "      <th>...</th>\n",
       "      <th>0.53</th>\n",
       "      <th>0.52</th>\n",
       "      <th>0.27</th>\n",
       "      <th>0.21</th>\n",
       "      <th>0.21</th>\n",
       "      <th>0.20</th>\n",
       "      <th>0.19</th>\n",
       "      <th>0.15</th>\n",
       "      <th>0.14</th>\n",
       "      <th>0.07</th>\n",
       "    </tr>\n",
       "  </thead>\n",
       "  <tbody>\n",
       "  </tbody>\n",
       "</table>\n",
       "<p>0 rows × 21643 columns</p>\n",
       "</div>"
      ],
      "text/plain": [
       "Empty DataFrame\n",
       "Columns: [40.22, 34.95, 7.15, 5.14, 4.83, 1.84, 0.99, 0.93, 0.7, 0.51, 0.51, 0.47, 0.34, 0.22, 0.22, 0.22, 0.2, 0.19, 0.17, 0.18, 0.03, 39.53, 35.95, 7.82, 6.43, 2.5, 2.14, 1.69, 0.61, 0.59, 0.58, 0.41, 0.41, 0.31, 0.25, 0.2, 0.18, 0.13, 0.12, 0.1, 0.07, 47.75, 25.51, 10.47, 7.62, 1.9, 1.81, 1.39, 1.32, 0.48, 0.41, 0.31, 0.28, 0.21, 0.17, 0.14, 0.13, 0.11, 39.89, 39.57, 6.38, 4.6, 2.74, 1.98, 0.9, 0.65, 0.53, 0.52, 0.51, 0.48, 0.26, 0.21, 0.18, 0.18, 0.11, 0.12, 0.1, 0.06, 0.05, 44.66, 38.23, 5.23, 5.0, 1.69, 0.96, 0.71, 0.67, 0.62, 0.39, 0.34, 0.3, 0.24, 0.24, 0.2, 0.19, 0.18, 0.14, 46.01, 28.47, 9.24, ...]\n",
       "Index: []\n",
       "\n",
       "[0 rows x 21643 columns]"
      ]
     },
     "execution_count": 13,
     "metadata": {},
     "output_type": "execute_result"
    }
   ],
   "source": [
    "data"
   ]
  },
  {
   "cell_type": "code",
   "execution_count": 14,
   "metadata": {},
   "outputs": [
    {
     "data": {
      "text/plain": [
       "(0, 21643)"
      ]
     },
     "execution_count": 14,
     "metadata": {},
     "output_type": "execute_result"
    }
   ],
   "source": [
    "data.shape"
   ]
  },
  {
   "cell_type": "code",
   "execution_count": null,
   "metadata": {},
   "outputs": [],
   "source": []
  }
 ],
 "metadata": {
  "kernelspec": {
   "display_name": "Python 3",
   "language": "python",
   "name": "python3"
  },
  "language_info": {
   "codemirror_mode": {
    "name": "ipython",
    "version": 3
   },
   "file_extension": ".py",
   "mimetype": "text/x-python",
   "name": "python",
   "nbconvert_exporter": "python",
   "pygments_lexer": "ipython3",
   "version": "3.8.3"
  }
 },
 "nbformat": 4,
 "nbformat_minor": 4
}
